{
  "nbformat": 4,
  "nbformat_minor": 0,
  "metadata": {
    "colab": {
      "name": "Fraud_detection_PySpark_MLlib.ipynb",
      "provenance": [],
      "collapsed_sections": []
    },
    "kernelspec": {
      "name": "python3",
      "display_name": "Python 3"
    },
    "language_info": {
      "name": "python"
    }
  },
  "cells": [
    {
      "cell_type": "markdown",
      "source": [
        "### **PySpark MLlib Logistic Regression  - Fraud detection**"
      ],
      "metadata": {
        "id": "7qqxqv-L7KJO"
      }
    },
    {
      "cell_type": "markdown",
      "source": [
        "Dataset link: https://www.kaggle.com/datasets/ealaxi/paysim1"
      ],
      "metadata": {
        "id": "jui7_b7y7WIf"
      }
    },
    {
      "cell_type": "markdown",
      "source": [
        "**Variables**\n",
        "\n",
        "step - maps a unit of time in the real world. In this case 1 step is 1 hour of time.\n",
        "\n",
        "type - CASH-IN, CASH-OUT, DEBIT, PAYMENT and TRANSFER.\n",
        "\n",
        "amount -\n",
        "amount of the transaction in local currency.\n",
        "\n",
        "nameOrig - customer who started the transaction\n",
        "\n",
        "oldbalanceOrg - initial balance before the transaction\n",
        "\n",
        "newbalanceOrig - new balance after the transaction\n",
        "\n",
        "nameDest - customer who is the recipient of the transaction\n",
        "\n",
        "oldbalanceDest - initial balance recipient before the transaction. Note that there is not information for customers that start with M (Merchants).\n",
        "\n",
        "newbalanceDest - new balance recipient after the transaction. Note that there is not information for customers that start with M (Merchants).\n",
        "\n",
        "isFraud - This is the transactions made by the fraudulent agents inside the simulation. In this specific dataset the fraudulent behavior of the agents aims to profit by taking control or customers accounts and try to empty the funds by transferring to another account and then cashing out of the system.\n",
        "\n",
        "isFlaggedFraud - The business model aims to control massive transfers from one account to another and flags illegal attempts. An illegal attempt in this dataset is an attempt to transfer more than 200.000 in a single transaction."
      ],
      "metadata": {
        "id": "b3xvmXSY_0yB"
      }
    },
    {
      "cell_type": "markdown",
      "source": [
        "**Import libraries, packages, modules**"
      ],
      "metadata": {
        "id": "_6NDVCg59zHU"
      }
    },
    {
      "cell_type": "code",
      "source": [
        "!pip install pyspark"
      ],
      "metadata": {
        "colab": {
          "base_uri": "https://localhost:8080/"
        },
        "id": "rSmPzNXGLIGm",
        "outputId": "245e54a7-2609-4352-93a0-5d91a6110721"
      },
      "execution_count": null,
      "outputs": [
        {
          "output_type": "stream",
          "name": "stdout",
          "text": [
            "Looking in indexes: https://pypi.org/simple, https://us-python.pkg.dev/colab-wheels/public/simple/\n",
            "Requirement already satisfied: pyspark in /usr/local/lib/python3.7/dist-packages (3.3.0)\n",
            "Requirement already satisfied: py4j==0.10.9.5 in /usr/local/lib/python3.7/dist-packages (from pyspark) (0.10.9.5)\n"
          ]
        }
      ]
    },
    {
      "cell_type": "code",
      "source": [
        "from pyspark.sql import SparkSession\n",
        "import pyspark.sql.functions as F\n",
        "import pyspark.sql.types as T\n",
        "from pyspark.ml.feature import (OneHotEncoder, StringIndexer)\n",
        "from pyspark.ml.feature import VectorAssembler\n",
        "from pyspark.ml import Pipeline\n",
        "from pyspark.ml.classification import LogisticRegression\n",
        "from pyspark.sql.functions import col,isnan, when, count\n",
        "\n",
        "spark=SparkSession.builder.getOrCreate()\n",
        "\n",
        "import os\n",
        "from os.path import isfile, join"
      ],
      "metadata": {
        "id": "b6qvlPy67VE8"
      },
      "execution_count": null,
      "outputs": []
    },
    {
      "cell_type": "code",
      "source": [
        "# Import dataset\n",
        "\n",
        "df=spark.read.csv('/content/drive/MyDrive/Colab Notebooks/Spark/PySpark_MLib_Fraud_detection_project/PS_20174392719_1491204439457_log.csv', inferSchema=True, header=True)"
      ],
      "metadata": {
        "id": "3Hhl069H-ofY"
      },
      "execution_count": null,
      "outputs": []
    },
    {
      "cell_type": "code",
      "source": [
        "# Check the schema\n",
        "\n",
        "df.printSchema()"
      ],
      "metadata": {
        "colab": {
          "base_uri": "https://localhost:8080/"
        },
        "id": "PGelRroj-4Xi",
        "outputId": "332b825b-f8e7-403c-d2e1-81560cf227b3"
      },
      "execution_count": null,
      "outputs": [
        {
          "output_type": "stream",
          "name": "stdout",
          "text": [
            "root\n",
            " |-- step: integer (nullable = true)\n",
            " |-- type: string (nullable = true)\n",
            " |-- amount: double (nullable = true)\n",
            " |-- nameOrig: string (nullable = true)\n",
            " |-- oldbalanceOrg: double (nullable = true)\n",
            " |-- newbalanceOrig: double (nullable = true)\n",
            " |-- nameDest: string (nullable = true)\n",
            " |-- oldbalanceDest: double (nullable = true)\n",
            " |-- newbalanceDest: double (nullable = true)\n",
            " |-- isFraud: integer (nullable = true)\n",
            " |-- isFlaggedFraud: integer (nullable = true)\n",
            "\n"
          ]
        }
      ]
    },
    {
      "cell_type": "code",
      "source": [
        "# Print 5 rows of the dataset\n",
        "\n",
        "df.show(5)"
      ],
      "metadata": {
        "colab": {
          "base_uri": "https://localhost:8080/"
        },
        "id": "QI0krgep_IbC",
        "outputId": "bcb51c5d-eada-4f2d-95fa-de87a98350db"
      },
      "execution_count": null,
      "outputs": [
        {
          "output_type": "stream",
          "name": "stdout",
          "text": [
            "+----+--------+--------+-----------+-------------+--------------+-----------+--------------+--------------+-------+--------------+\n",
            "|step|    type|  amount|   nameOrig|oldbalanceOrg|newbalanceOrig|   nameDest|oldbalanceDest|newbalanceDest|isFraud|isFlaggedFraud|\n",
            "+----+--------+--------+-----------+-------------+--------------+-----------+--------------+--------------+-------+--------------+\n",
            "|   1| PAYMENT| 9839.64|C1231006815|     170136.0|     160296.36|M1979787155|           0.0|           0.0|      0|             0|\n",
            "|   1| PAYMENT| 1864.28|C1666544295|      21249.0|      19384.72|M2044282225|           0.0|           0.0|      0|             0|\n",
            "|   1|TRANSFER|   181.0|C1305486145|        181.0|           0.0| C553264065|           0.0|           0.0|      1|             0|\n",
            "|   1|CASH_OUT|   181.0| C840083671|        181.0|           0.0|  C38997010|       21182.0|           0.0|      1|             0|\n",
            "|   1| PAYMENT|11668.14|C2048537720|      41554.0|      29885.86|M1230701703|           0.0|           0.0|      0|             0|\n",
            "+----+--------+--------+-----------+-------------+--------------+-----------+--------------+--------------+-------+--------------+\n",
            "only showing top 5 rows\n",
            "\n"
          ]
        }
      ]
    },
    {
      "cell_type": "code",
      "source": [
        "# We will select only the userfull variables (eliminate unique identifiers and high cardinality variables, for example, plus keep the variables related to the initiators of the transactions, not the receipients).\n",
        "\n",
        "df=df.select('type', 'amount', 'oldbalanceOrg', 'newbalanceOrig', 'isFraud')"
      ],
      "metadata": {
        "id": "wHzovFiW_dYN"
      },
      "execution_count": null,
      "outputs": []
    },
    {
      "cell_type": "code",
      "source": [
        "df.show(5)"
      ],
      "metadata": {
        "colab": {
          "base_uri": "https://localhost:8080/"
        },
        "id": "iTmbgcRaAilR",
        "outputId": "fa952163-d77b-4aa1-91e7-281e7a02d4c9"
      },
      "execution_count": null,
      "outputs": [
        {
          "output_type": "stream",
          "name": "stdout",
          "text": [
            "+--------+--------+-------------+--------------+-------+\n",
            "|    type|  amount|oldbalanceOrg|newbalanceOrig|isFraud|\n",
            "+--------+--------+-------------+--------------+-------+\n",
            "| PAYMENT| 9839.64|     170136.0|     160296.36|      0|\n",
            "| PAYMENT| 1864.28|      21249.0|      19384.72|      0|\n",
            "|TRANSFER|   181.0|        181.0|           0.0|      1|\n",
            "|CASH_OUT|   181.0|        181.0|           0.0|      1|\n",
            "| PAYMENT|11668.14|      41554.0|      29885.86|      0|\n",
            "+--------+--------+-------------+--------------+-------+\n",
            "only showing top 5 rows\n",
            "\n"
          ]
        }
      ]
    },
    {
      "cell_type": "code",
      "source": [
        "# Check for null values\n",
        "df.select([count(when(isnan(c), c)).alias(c) for c in df.columns]).show()"
      ],
      "metadata": {
        "colab": {
          "base_uri": "https://localhost:8080/"
        },
        "id": "3DalQHCJfgm8",
        "outputId": "8c4423ca-a040-4ee1-c1ab-e8beb2920df7"
      },
      "execution_count": null,
      "outputs": [
        {
          "output_type": "stream",
          "name": "stdout",
          "text": [
            "+----+------+-------------+--------------+-------+\n",
            "|type|amount|oldbalanceOrg|newbalanceOrig|isFraud|\n",
            "+----+------+-------------+--------------+-------+\n",
            "|   0|     0|            0|             0|      0|\n",
            "+----+------+-------------+--------------+-------+\n",
            "\n"
          ]
        }
      ]
    },
    {
      "cell_type": "markdown",
      "source": [
        "**Train/Test split**"
      ],
      "metadata": {
        "id": "G7BQvMfgBNLb"
      }
    },
    {
      "cell_type": "code",
      "source": [
        "train, test=df.randomSplit([0.7, 0.3], seed=7)"
      ],
      "metadata": {
        "id": "g0JsGiJeBOj7"
      },
      "execution_count": null,
      "outputs": []
    },
    {
      "cell_type": "code",
      "source": [
        "# Records in the train dataset\n",
        "train.count()"
      ],
      "metadata": {
        "colab": {
          "base_uri": "https://localhost:8080/"
        },
        "id": "evEIUoALBfrH",
        "outputId": "790d5d3c-2c7a-41fb-b8d6-a2b0a5148d04"
      },
      "execution_count": null,
      "outputs": [
        {
          "output_type": "execute_result",
          "data": {
            "text/plain": [
              "191757"
            ]
          },
          "metadata": {},
          "execution_count": 10
        }
      ]
    },
    {
      "cell_type": "code",
      "source": [
        "# Records in the test dataset\n",
        "test.count()"
      ],
      "metadata": {
        "colab": {
          "base_uri": "https://localhost:8080/"
        },
        "id": "8k48yfYmBlZG",
        "outputId": "a8dda7d6-f28d-40ef-9de2-ec23f8006e95"
      },
      "execution_count": null,
      "outputs": [
        {
          "output_type": "execute_result",
          "data": {
            "text/plain": [
              "82300"
            ]
          },
          "metadata": {},
          "execution_count": 11
        }
      ]
    },
    {
      "cell_type": "markdown",
      "source": [
        "**Check data types**"
      ],
      "metadata": {
        "id": "8GbW3zYUCAPi"
      }
    },
    {
      "cell_type": "code",
      "source": [
        "train.dtypes"
      ],
      "metadata": {
        "colab": {
          "base_uri": "https://localhost:8080/"
        },
        "id": "GMZ03POYCGcR",
        "outputId": "50c8fe56-9da3-4744-c5cb-4f994e89d082"
      },
      "execution_count": null,
      "outputs": [
        {
          "output_type": "execute_result",
          "data": {
            "text/plain": [
              "[('type', 'string'),\n",
              " ('amount', 'double'),\n",
              " ('oldbalanceOrg', 'double'),\n",
              " ('newbalanceOrig', 'double'),\n",
              " ('isFraud', 'int')]"
            ]
          },
          "metadata": {},
          "execution_count": 12
        }
      ]
    },
    {
      "cell_type": "code",
      "source": [
        "# Identify and assign to new dimension categorical and numerical values\n",
        "\n",
        "catCols=[x for (x, dataType) in train.dtypes if dataType=='string']\n",
        "numCols=[x for (x, dataType) in train.dtypes if ((dataType=='double') & (x !='isFraud'))]"
      ],
      "metadata": {
        "id": "_OKz6FQ9CH3V"
      },
      "execution_count": null,
      "outputs": []
    },
    {
      "cell_type": "code",
      "source": [
        "# Check new variables\n",
        "print(numCols)\n",
        "print(catCols)"
      ],
      "metadata": {
        "colab": {
          "base_uri": "https://localhost:8080/"
        },
        "id": "tIyoQE2fCnso",
        "outputId": "acf51533-4b89-406c-a52d-2c7310b281dd"
      },
      "execution_count": null,
      "outputs": [
        {
          "output_type": "stream",
          "name": "stdout",
          "text": [
            "['amount', 'oldbalanceOrg', 'newbalanceOrig']\n",
            "['type']\n"
          ]
        }
      ]
    },
    {
      "cell_type": "markdown",
      "source": [
        "**OneHot Encoding**"
      ],
      "metadata": {
        "id": "EUNexXLTDEoO"
      }
    },
    {
      "cell_type": "code",
      "source": [
        "# Count the number of distinct value for the 'Type' variable.\n",
        "train.agg(F.countDistinct('type')).show()"
      ],
      "metadata": {
        "colab": {
          "base_uri": "https://localhost:8080/"
        },
        "id": "97gUoK8pJ98z",
        "outputId": "c162f126-4308-45bc-e8f1-791789c2f26e"
      },
      "execution_count": null,
      "outputs": [
        {
          "output_type": "stream",
          "name": "stdout",
          "text": [
            "+-----------+\n",
            "|count(type)|\n",
            "+-----------+\n",
            "|          5|\n",
            "+-----------+\n",
            "\n"
          ]
        }
      ]
    },
    {
      "cell_type": "code",
      "source": [
        "# How many elements per each type.\n",
        "train.groupBy('type').count().show()"
      ],
      "metadata": {
        "colab": {
          "base_uri": "https://localhost:8080/"
        },
        "id": "wUdYPjAzKIWr",
        "outputId": "c07f0cb5-3c7e-4b9f-d038-5ff05df10257"
      },
      "execution_count": null,
      "outputs": [
        {
          "output_type": "stream",
          "name": "stdout",
          "text": [
            "+--------+-----+\n",
            "|    type|count|\n",
            "+--------+-----+\n",
            "|TRANSFER|16097|\n",
            "| CASH_IN|40414|\n",
            "|CASH_OUT|66598|\n",
            "| PAYMENT|67187|\n",
            "|   DEBIT| 1461|\n",
            "+--------+-----+\n",
            "\n"
          ]
        }
      ]
    },
    {
      "cell_type": "code",
      "source": [
        "# Create a list comprehension for each column in each categorical variable\n",
        "string_indexer=[\n",
        "        StringIndexer(inputCol=x, outputCol=x +\"_StringIndexer\", handleInvalid='skip')\n",
        "        for x in catCols\n",
        "]"
      ],
      "metadata": {
        "id": "F1tOp631LAS7"
      },
      "execution_count": null,
      "outputs": []
    },
    {
      "cell_type": "code",
      "source": [
        "string_indexer"
      ],
      "metadata": {
        "colab": {
          "base_uri": "https://localhost:8080/"
        },
        "id": "K3O5yDf4Ltj8",
        "outputId": "5668d0b7-98bd-4f3e-cdc4-a3087d24b762"
      },
      "execution_count": null,
      "outputs": [
        {
          "output_type": "execute_result",
          "data": {
            "text/plain": [
              "[StringIndexer_ed3d6a60f501]"
            ]
          },
          "metadata": {},
          "execution_count": 18
        }
      ]
    },
    {
      "cell_type": "code",
      "source": [
        "# One Hot Encode all the categorical variables\n",
        "\n",
        "one_hot_encoder=[\n",
        "      OneHotEncoder(\n",
        "          inputCols=[f\"{x}_StringIndexer\" for x in catCols],\n",
        "          outputCols=[f\"{x}_OneHotEncoder\" for x in catCols]\n",
        "      )\n",
        "]"
      ],
      "metadata": {
        "id": "u-C6DB-KLwLw"
      },
      "execution_count": null,
      "outputs": []
    },
    {
      "cell_type": "code",
      "source": [
        "one_hot_encoder"
      ],
      "metadata": {
        "colab": {
          "base_uri": "https://localhost:8080/"
        },
        "id": "hSSRlt_YMJc1",
        "outputId": "6f6b77d9-2d67-4d1e-e644-37ecaa8aa096"
      },
      "execution_count": null,
      "outputs": [
        {
          "output_type": "execute_result",
          "data": {
            "text/plain": [
              "[OneHotEncoder_7cb1d9e9d520]"
            ]
          },
          "metadata": {},
          "execution_count": 20
        }
      ]
    },
    {
      "cell_type": "markdown",
      "source": [
        "# **Vector assembling**"
      ],
      "metadata": {
        "id": "okVU8kyrMLx5"
      }
    },
    {
      "cell_type": "markdown",
      "source": [
        "In Spark, you need to transform all of your features to a vector of all the features you want to add in the machine learning model - we will do this with VectorAssembler."
      ],
      "metadata": {
        "id": "WEEKcsrjMhEn"
      }
    },
    {
      "cell_type": "code",
      "source": [
        "assemblerInput=[x for x in numCols]   # The numeric values are already in the same range type so there is no need to transform them.\n",
        "assemblerInput += [f\"{x}_OneHotEncoder\" for x in catCols]"
      ],
      "metadata": {
        "id": "rYRbBwBvMRHp"
      },
      "execution_count": null,
      "outputs": []
    },
    {
      "cell_type": "code",
      "source": [
        "assemblerInput"
      ],
      "metadata": {
        "colab": {
          "base_uri": "https://localhost:8080/"
        },
        "id": "owI3nIrWM8gK",
        "outputId": "d2491d70-82ec-48ea-8ed5-150fc4e24747"
      },
      "execution_count": null,
      "outputs": [
        {
          "output_type": "execute_result",
          "data": {
            "text/plain": [
              "['amount', 'oldbalanceOrg', 'newbalanceOrig', 'type_OneHotEncoder']"
            ]
          },
          "metadata": {},
          "execution_count": 22
        }
      ]
    },
    {
      "cell_type": "code",
      "source": [
        "# Assemble the vector by assigning the input and output column.\n",
        "\n",
        "vector_assembler=VectorAssembler(\n",
        "    inputCols=assemblerInput, outputCol='VectorAssembler_features', handleInvalid=\"skip\"\n",
        ")"
      ],
      "metadata": {
        "id": "55edsZ6TNN6S"
      },
      "execution_count": null,
      "outputs": []
    },
    {
      "cell_type": "code",
      "source": [
        "# Create a pipeline specifying the sequence of stages for the model.\n",
        "\n",
        "stages = []\n",
        "stages += string_indexer\n",
        "stages += one_hot_encoder\n",
        "stages += [vector_assembler] #The vector assemble as a list."
      ],
      "metadata": {
        "id": "U9yW3TLPQJDU"
      },
      "execution_count": null,
      "outputs": []
    },
    {
      "cell_type": "code",
      "source": [
        "stages"
      ],
      "metadata": {
        "colab": {
          "base_uri": "https://localhost:8080/"
        },
        "id": "EoknIqo2Q-ul",
        "outputId": "209b8c7b-3686-4775-eb15-b3e2c9a7cb5d"
      },
      "execution_count": null,
      "outputs": [
        {
          "output_type": "execute_result",
          "data": {
            "text/plain": [
              "[StringIndexer_ed3d6a60f501,\n",
              " OneHotEncoder_7cb1d9e9d520,\n",
              " VectorAssembler_c084856ee0ab]"
            ]
          },
          "metadata": {},
          "execution_count": 25
        }
      ]
    },
    {
      "cell_type": "code",
      "source": [
        "%%time\n",
        "\n",
        "# Set the stages and fit it on the train set.\n",
        "pipeline=Pipeline().setStages(stages)\n",
        "\n",
        "model=pipeline.fit(train)\n",
        "train_df=model.transform(train)\n",
        "\n",
        "test_df=model.transform(test)"
      ],
      "metadata": {
        "colab": {
          "base_uri": "https://localhost:8080/"
        },
        "id": "NeGKcNfVRJqA",
        "outputId": "78c4d90e-107a-40ee-f2ee-e376d4e2f615"
      },
      "execution_count": null,
      "outputs": [
        {
          "output_type": "stream",
          "name": "stdout",
          "text": [
            "CPU times: user 83.2 ms, sys: 10.5 ms, total: 93.7 ms\n",
            "Wall time: 4.65 s\n"
          ]
        }
      ]
    },
    {
      "cell_type": "code",
      "source": [
        "train_df.select(\"type\", \"amount\", \"oldbalanceOrg\", \"newbalanceOrig\", \"VectorAssembler_features\").show(truncate=False)"
      ],
      "metadata": {
        "colab": {
          "base_uri": "https://localhost:8080/"
        },
        "id": "DjTnmrBygcyK",
        "outputId": "ada175a3-1521-4114-c70e-8bf661f7dcd8"
      },
      "execution_count": null,
      "outputs": [
        {
          "output_type": "stream",
          "name": "stdout",
          "text": [
            "+-------+------+-------------+--------------+----------------------------------------------------+\n",
            "|type   |amount|oldbalanceOrg|newbalanceOrig|VectorAssembler_features                            |\n",
            "+-------+------+-------------+--------------+----------------------------------------------------+\n",
            "|CASH_IN|5.66  |5061561.06   |5061566.72    |[5.66,5061561.06,5061566.72,0.0,0.0,1.0,0.0]        |\n",
            "|CASH_IN|38.77 |6210013.72   |6210052.49    |[38.77,6210013.72,6210052.49,0.0,0.0,1.0,0.0]       |\n",
            "|CASH_IN|57.98 |9021204.76   |9021262.74    |[57.98,9021204.76,9021262.74,0.0,0.0,1.0,0.0]       |\n",
            "|CASH_IN|71.85 |1.688345136E7|1.688352321E7 |[71.85,1.688345136E7,1.688352321E7,0.0,0.0,1.0,0.0] |\n",
            "|CASH_IN|85.96 |30214.0      |30299.96      |[85.96,30214.0,30299.96,0.0,0.0,1.0,0.0]            |\n",
            "|CASH_IN|122.81|60535.02     |60657.83      |[122.81,60535.02,60657.83,0.0,0.0,1.0,0.0]          |\n",
            "|CASH_IN|205.13|2.476159427E7|2.476179941E7 |[205.13,2.476159427E7,2.476179941E7,0.0,0.0,1.0,0.0]|\n",
            "|CASH_IN|210.18|2464214.89   |2464425.07    |[210.18,2464214.89,2464425.07,0.0,0.0,1.0,0.0]      |\n",
            "|CASH_IN|216.37|21170.0      |21386.37      |[216.37,21170.0,21386.37,0.0,0.0,1.0,0.0]           |\n",
            "|CASH_IN|249.62|1.106144519E7|1.106169481E7 |[249.62,1.106144519E7,1.106169481E7,0.0,0.0,1.0,0.0]|\n",
            "|CASH_IN|252.3 |6055509.83   |6055762.13    |[252.3,6055509.83,6055762.13,0.0,0.0,1.0,0.0]       |\n",
            "|CASH_IN|257.16|1.070874105E7|1.070899821E7 |[257.16,1.070874105E7,1.070899821E7,0.0,0.0,1.0,0.0]|\n",
            "|CASH_IN|302.96|1337.0       |1639.96       |[302.96,1337.0,1639.96,0.0,0.0,1.0,0.0]             |\n",
            "|CASH_IN|304.95|2462176.64   |2462481.59    |[304.95,2462176.64,2462481.59,0.0,0.0,1.0,0.0]      |\n",
            "|CASH_IN|310.78|3315969.72   |3316280.51    |[310.78,3315969.72,3316280.51,0.0,0.0,1.0,0.0]      |\n",
            "|CASH_IN|340.45|542.0        |882.45        |[340.45,542.0,882.45,0.0,0.0,1.0,0.0]               |\n",
            "|CASH_IN|354.14|68508.0      |68862.14      |[354.14,68508.0,68862.14,0.0,0.0,1.0,0.0]           |\n",
            "|CASH_IN|359.01|59857.0      |60216.01      |[359.01,59857.0,60216.01,0.0,0.0,1.0,0.0]           |\n",
            "|CASH_IN|373.21|6744124.92   |6744498.13    |[373.21,6744124.92,6744498.13,0.0,0.0,1.0,0.0]      |\n",
            "|CASH_IN|390.44|25664.0      |26054.44      |[390.44,25664.0,26054.44,0.0,0.0,1.0,0.0]           |\n",
            "+-------+------+-------------+--------------+----------------------------------------------------+\n",
            "only showing top 20 rows\n",
            "\n"
          ]
        }
      ]
    },
    {
      "cell_type": "code",
      "source": [
        "test_df.select(\"type\", \"amount\", \"oldbalanceOrg\", \"newbalanceOrig\", \"VectorAssembler_features\").show(truncate=False)"
      ],
      "metadata": {
        "colab": {
          "base_uri": "https://localhost:8080/"
        },
        "id": "LIl97yYaWLIO",
        "outputId": "07280de1-e0cb-4a9f-e3cb-1c70fde2d85e"
      },
      "execution_count": null,
      "outputs": [
        {
          "output_type": "stream",
          "name": "stdout",
          "text": [
            "+-------+------+-------------+--------------+---------------------------------------------------+\n",
            "|type   |amount|oldbalanceOrg|newbalanceOrig|VectorAssembler_features                           |\n",
            "+-------+------+-------------+--------------+---------------------------------------------------+\n",
            "|CASH_IN|57.98 |1290788.6    |1290846.57    |[57.98,1290788.6,1290846.57,0.0,0.0,1.0,0.0]       |\n",
            "|CASH_IN|82.2  |66896.0      |66978.2       |[82.2,66896.0,66978.2,0.0,0.0,1.0,0.0]             |\n",
            "|CASH_IN|103.88|9419793.26   |9419897.14    |[103.88,9419793.26,9419897.14,0.0,0.0,1.0,0.0]     |\n",
            "|CASH_IN|135.45|1417271.59   |1417407.04    |[135.45,1417271.59,1417407.04,0.0,0.0,1.0,0.0]     |\n",
            "|CASH_IN|160.19|5019.0       |5179.19       |[160.19,5019.0,5179.19,0.0,0.0,1.0,0.0]            |\n",
            "|CASH_IN|208.75|762582.92    |762791.68     |[208.75,762582.92,762791.68,0.0,0.0,1.0,0.0]       |\n",
            "|CASH_IN|214.49|215.0        |429.49        |[214.49,215.0,429.49,0.0,0.0,1.0,0.0]              |\n",
            "|CASH_IN|236.51|10049.0      |10285.51      |[236.51,10049.0,10285.51,0.0,0.0,1.0,0.0]          |\n",
            "|CASH_IN|251.31|4997835.18   |4998086.48    |[251.31,4997835.18,4998086.48,0.0,0.0,1.0,0.0]     |\n",
            "|CASH_IN|270.78|4184966.65   |4185237.43    |[270.78,4184966.65,4185237.43,0.0,0.0,1.0,0.0]     |\n",
            "|CASH_IN|272.59|3010116.13   |3010388.72    |[272.59,3010116.13,3010388.72,0.0,0.0,1.0,0.0]     |\n",
            "|CASH_IN|273.95|77437.29     |77711.24      |[273.95,77437.29,77711.24,0.0,0.0,1.0,0.0]         |\n",
            "|CASH_IN|279.54|2421235.31   |2421514.85    |[279.54,2421235.31,2421514.85,0.0,0.0,1.0,0.0]     |\n",
            "|CASH_IN|321.15|307358.48    |307679.63     |[321.15,307358.48,307679.63,0.0,0.0,1.0,0.0]       |\n",
            "|CASH_IN|330.82|2198509.97   |2198840.79    |[330.82,2198509.97,2198840.79,0.0,0.0,1.0,0.0]     |\n",
            "|CASH_IN|377.06|195547.0     |195924.06     |[377.06,195547.0,195924.06,0.0,0.0,1.0,0.0]        |\n",
            "|CASH_IN|383.0 |1859398.78   |1859781.79    |[383.0,1859398.78,1859781.79,0.0,0.0,1.0,0.0]      |\n",
            "|CASH_IN|392.69|1083824.16   |1084216.84    |[392.69,1083824.16,1084216.84,0.0,0.0,1.0,0.0]     |\n",
            "|CASH_IN|421.02|1076169.79   |1076590.81    |[421.02,1076169.79,1076590.81,0.0,0.0,1.0,0.0]     |\n",
            "|CASH_IN|444.49|1.71411541E7 |1.714159859E7 |[444.49,1.71411541E7,1.714159859E7,0.0,0.0,1.0,0.0]|\n",
            "+-------+------+-------------+--------------+---------------------------------------------------+\n",
            "only showing top 20 rows\n",
            "\n"
          ]
        }
      ]
    },
    {
      "cell_type": "code",
      "source": [
        "train_df.head(1)"
      ],
      "metadata": {
        "colab": {
          "base_uri": "https://localhost:8080/"
        },
        "id": "V3tTPhdfgl2H",
        "outputId": "a7f6ca31-8fb3-48a5-cf76-aae9ff01bbcf"
      },
      "execution_count": null,
      "outputs": [
        {
          "output_type": "execute_result",
          "data": {
            "text/plain": [
              "[Row(type='CASH_IN', amount=5.66, oldbalanceOrg=5061561.06, newbalanceOrig=5061566.72, isFraud=0, type_StringIndexer=2.0, type_OneHotEncoder=SparseVector(4, {2: 1.0}), VectorAssembler_features=DenseVector([5.66, 5061561.06, 5061566.72, 0.0, 0.0, 1.0, 0.0]))]"
            ]
          },
          "metadata": {},
          "execution_count": 31
        }
      ]
    },
    {
      "cell_type": "code",
      "source": [
        "train_df.describe()"
      ],
      "metadata": {
        "colab": {
          "base_uri": "https://localhost:8080/"
        },
        "id": "epkaaLQee5tv",
        "outputId": "39e62da1-692d-41d3-91db-f3c45b249892"
      },
      "execution_count": null,
      "outputs": [
        {
          "output_type": "execute_result",
          "data": {
            "text/plain": [
              "DataFrame[summary: string, type: string, amount: string, oldbalanceOrg: string, newbalanceOrig: string, isFraud: string, type_StringIndexer: string]"
            ]
          },
          "metadata": {},
          "execution_count": 32
        }
      ]
    },
    {
      "cell_type": "markdown",
      "source": [
        "**Logistic Regression**"
      ],
      "metadata": {
        "id": "7ZJH3MLKWjyt"
      }
    },
    {
      "cell_type": "code",
      "source": [
        "# Spark requires a vector type column named features and a target column called label.\n",
        "\n",
        "data=train_df.select(\n",
        "    F.col('VectorAssembler_features').alias('features'),\n",
        "    F.col('isFraud').alias('label')\n",
        ")"
      ],
      "metadata": {
        "id": "BvH79kuEWl2h"
      },
      "execution_count": null,
      "outputs": []
    },
    {
      "cell_type": "code",
      "source": [
        "data.show(5, truncate=False)"
      ],
      "metadata": {
        "colab": {
          "base_uri": "https://localhost:8080/"
        },
        "id": "wSAfalhGXLM8",
        "outputId": "704f2f3b-267a-4ac1-aff5-e70fcc7e660e"
      },
      "execution_count": null,
      "outputs": [
        {
          "output_type": "stream",
          "name": "stdout",
          "text": [
            "+---------------------------------------------------+-----+\n",
            "|features                                           |label|\n",
            "+---------------------------------------------------+-----+\n",
            "|[5.66,5061561.06,5061566.72,0.0,0.0,1.0,0.0]       |0    |\n",
            "|[38.77,6210013.72,6210052.49,0.0,0.0,1.0,0.0]      |0    |\n",
            "|[57.98,9021204.76,9021262.74,0.0,0.0,1.0,0.0]      |0    |\n",
            "|[71.85,1.688345136E7,1.688352321E7,0.0,0.0,1.0,0.0]|0    |\n",
            "|[85.96,30214.0,30299.96,0.0,0.0,1.0,0.0]           |0    |\n",
            "+---------------------------------------------------+-----+\n",
            "only showing top 5 rows\n",
            "\n"
          ]
        }
      ]
    },
    {
      "cell_type": "code",
      "source": [
        "# Fit the data with the Logistic regression model.\n",
        "\n",
        "model=LogisticRegression().fit(data)"
      ],
      "metadata": {
        "id": "VYZUxTdGXXT3"
      },
      "execution_count": null,
      "outputs": []
    },
    {
      "cell_type": "code",
      "source": [
        "# Area under the curve \n",
        "model.summary.areaUnderROC"
      ],
      "metadata": {
        "colab": {
          "base_uri": "https://localhost:8080/"
        },
        "id": "_vkliP3Mhnpp",
        "outputId": "a2e06525-394a-4902-9efa-44c832bb0b2d"
      },
      "execution_count": null,
      "outputs": [
        {
          "output_type": "execute_result",
          "data": {
            "text/plain": [
              "0.9811424456377097"
            ]
          },
          "metadata": {},
          "execution_count": 36
        }
      ]
    },
    {
      "cell_type": "code",
      "source": [
        "# Precision and recall\n",
        "model.summary.pr.show()"
      ],
      "metadata": {
        "colab": {
          "base_uri": "https://localhost:8080/"
        },
        "id": "RHimfwudhtP7",
        "outputId": "2de80813-1f0b-4e40-b7a1-cc238af08540"
      },
      "execution_count": null,
      "outputs": [
        {
          "output_type": "stream",
          "name": "stdout",
          "text": [
            "+------+-------------------+\n",
            "|recall|          precision|\n",
            "+------+-------------------+\n",
            "|   0.0| 0.5714285714285714|\n",
            "|  0.32| 0.5714285714285714|\n",
            "| 0.512|0.45714285714285713|\n",
            "| 0.608| 0.3619047619047619|\n",
            "| 0.616|              0.275|\n",
            "| 0.616|               0.22|\n",
            "| 0.616|0.18333333333333332|\n",
            "| 0.616|0.15714285714285714|\n",
            "| 0.616|             0.1375|\n",
            "| 0.616|0.12222222222222222|\n",
            "| 0.624|0.11142857142857143|\n",
            "| 0.632| 0.1025974025974026|\n",
            "|  0.64|0.09523809523809523|\n",
            "| 0.648|0.08901098901098901|\n",
            "| 0.648| 0.0826530612244898|\n",
            "| 0.656|0.07809523809523809|\n",
            "| 0.672|              0.075|\n",
            "| 0.672|0.07058823529411765|\n",
            "| 0.672|0.06666666666666667|\n",
            "|  0.68|0.06390977443609022|\n",
            "+------+-------------------+\n",
            "only showing top 20 rows\n",
            "\n"
          ]
        }
      ]
    }
  ]
}